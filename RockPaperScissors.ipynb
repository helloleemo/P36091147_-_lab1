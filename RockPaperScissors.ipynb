{
 "cells": [
  {
   "cell_type": "code",
   "execution_count": 1,
   "metadata": {},
   "outputs": [
    {
     "name": "stdout",
     "output_type": "stream",
     "text": [
      "Welcome to ROCK, PAPER, SCISSORS game!\n"
     ]
    },
    {
     "name": "stdin",
     "output_type": "stream",
     "text": [
      "Enter your move: (r)ock (p)aper (s)cissors: s\n"
     ]
    },
    {
     "name": "stdout",
     "output_type": "stream",
     "text": [
      "SCISSORS versus...\n",
      "ROCK!\n",
      "You lose!\n"
     ]
    },
    {
     "name": "stdin",
     "output_type": "stream",
     "text": [
      "Enter your move: (r)ock (p)aper (s)cissors: s\n"
     ]
    },
    {
     "name": "stdout",
     "output_type": "stream",
     "text": [
      "SCISSORS versus...\n",
      "ROCK!\n",
      "You lose!\n"
     ]
    },
    {
     "name": "stdin",
     "output_type": "stream",
     "text": [
      "Enter your move: (r)ock (p)aper (s)cissors: p\n"
     ]
    },
    {
     "name": "stdout",
     "output_type": "stream",
     "text": [
      "PAPER versus...\n",
      "PAPER!\n",
      "It is a tie!\n"
     ]
    },
    {
     "name": "stdin",
     "output_type": "stream",
     "text": [
      "Enter your move: (r)ock (p)aper (s)cissors: p\n"
     ]
    },
    {
     "name": "stdout",
     "output_type": "stream",
     "text": [
      "PAPER versus...\n",
      "ROCK!\n",
      "You win!!\n",
      "You have 1 ties and 2 losses before your first win.\n"
     ]
    }
   ],
   "source": [
    "\n",
    "import random\n",
    "count_lose=0\n",
    "count_tie=0\n",
    "\n",
    "#預設0開始算\n",
    "\n",
    "print(\"Welcome to ROCK, PAPER, SCISSORS game!\")\n",
    "\n",
    "while True:\n",
    "    a = input(\"Enter your move: (r)ock (p)aper (s)cissors:\")\n",
    "    count=[\"ROCK!\",\"PAPER!\",\"SCISSORS!\"]\n",
    "    b = random.choice(count)\n",
    "    #輸入值和顯示文字\n",
    "    #a是玩家 b是電腦\n",
    "    \n",
    "    if a==\"r\": #石頭\n",
    "        print(\"ROCK versus...\")\n",
    "        print(b)\n",
    "        if b==\"ROCK!\":  #平局\n",
    "            print(\"It is a tie!\")  \n",
    "            count_tie+=1\n",
    "        elif b==\"PAPER!\":  #輸了\n",
    "            print(\"You lose!\")\n",
    "            count_lose+=1\n",
    "        elif b==\"SCISSORS!\":  #贏了\n",
    "            print(\"You win!!\")\n",
    "            print(\"You have\",count_tie,\"ties and\",count_lose,\"losses before your first win.\")        \n",
    "            break #跳出\n",
    "            \n",
    "    elif a==\"p\": #布\n",
    "        print(\"PAPER versus...\")\n",
    "        print(b)\n",
    "        if b==\"PAPER!\":  #平局\n",
    "            print(\"It is a tie!\")  \n",
    "            count_tie+=1\n",
    "        elif b==\"SCISSORS!\":  #輸了\n",
    "            print(\"You lose!\")\n",
    "            count_lose+=1\n",
    "        elif b==\"ROCK!\":  #贏了\n",
    "            print(\"You win!!\")\n",
    "            print(\"You have\",count_tie,\"ties and\",count_lose,\"losses before your first win.\")        \n",
    "            break #跳出\n",
    "\n",
    "    elif a==\"s\": #剪刀\n",
    "        print(\"SCISSORS versus...\")\n",
    "        print(b)\n",
    "        if b==\"SCISSORS!\":  #平局\n",
    "            print(\"It is a tie!\")  \n",
    "            count_tie+=1\n",
    "        elif b==\"ROCK!\":  #輸了\n",
    "            print(\"You lose!\")\n",
    "            count_lose+=1\n",
    "        elif b==\"PAPER!\":  #贏了\n",
    "            print(\"You win!!\")\n",
    "            print(\"You have\",count_tie,\"ties and\",count_lose,\"losses before your first win.\")        \n",
    "            break #跳出\n",
    "            \n",
    "            \n",
    "            \n",
    "            \n",
    "            "
   ]
  },
  {
   "cell_type": "raw",
   "metadata": {},
   "source": []
  },
  {
   "cell_type": "code",
   "execution_count": null,
   "metadata": {},
   "outputs": [],
   "source": []
  },
  {
   "cell_type": "code",
   "execution_count": null,
   "metadata": {},
   "outputs": [],
   "source": []
  }
 ],
 "metadata": {
  "kernelspec": {
   "display_name": "Python 3",
   "language": "python",
   "name": "python3"
  },
  "language_info": {
   "codemirror_mode": {
    "name": "ipython",
    "version": 3
   },
   "file_extension": ".py",
   "mimetype": "text/x-python",
   "name": "python",
   "nbconvert_exporter": "python",
   "pygments_lexer": "ipython3",
   "version": "3.7.6"
  }
 },
 "nbformat": 4,
 "nbformat_minor": 4
}
