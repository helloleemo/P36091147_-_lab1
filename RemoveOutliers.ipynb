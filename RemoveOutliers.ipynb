{
 "cells": [
  {
   "cell_type": "code",
   "execution_count": 1,
   "metadata": {},
   "outputs": [
    {
     "name": "stdout",
     "output_type": "stream",
     "text": [
      "Enter the number of smallest and largest values to remove:2\n"
     ]
    }
   ],
   "source": [
    "n=int(input(\"Enter the number of smallest and largest values to remove:\"))\n",
    "list_num =[]\n",
    "list_outliers =[]"
   ]
  },
  {
   "cell_type": "code",
   "execution_count": 3,
   "metadata": {},
   "outputs": [
    {
     "name": "stdout",
     "output_type": "stream",
     "text": [
      "Enter a value (q or Q to quit):10000\n",
      "Enter a value (q or Q to quit):2000\n",
      "Enter a value (q or Q to quit):1\n",
      "Enter a value (q or Q to quit):3\n",
      "Enter a value (q or Q to quit):q\n",
      "The original data: [1, 2, 20, 10000, 2000, 1, 3]\n",
      "The data with the outliers removed: [2, 3, 20]\n",
      "The outliers: [-1000, 1, 1, 1, 20, 1100, 2000, 10000]\n"
     ]
    }
   ],
   "source": [
    "while True:\n",
    "    num=input(\"Enter a value (q or Q to quit):\")\n",
    "    if (num==\"Q\") or (num==\"q\"):\n",
    "        break\n",
    "    else:\n",
    "        list_num.append(int(num))\n",
    "print(\"The original data:\",list_num)\n",
    "list_num.sort(reverse=False)\n",
    "\n",
    "for i in range(n):\n",
    "    list_outliers.append(list_num[0]) #列表後面後面新增新的對象\n",
    "    list_outliers.insert(-1,list_num[-1]) #插入列表\n",
    "    del list_num[0] #刪除outliers\n",
    "    list_num.pop() #刪除最後一個\n",
    "    \n",
    "list_outliers.sort(reverse=False)\n",
    "print(\"The data with the outliers removed:\",list_num)\n",
    "print(\"The outliers:\",list_outliers)"
   ]
  },
  {
   "cell_type": "code",
   "execution_count": null,
   "metadata": {},
   "outputs": [],
   "source": []
  }
 ],
 "metadata": {
  "kernelspec": {
   "display_name": "Python 3",
   "language": "python",
   "name": "python3"
  },
  "language_info": {
   "codemirror_mode": {
    "name": "ipython",
    "version": 3
   },
   "file_extension": ".py",
   "mimetype": "text/x-python",
   "name": "python",
   "nbconvert_exporter": "python",
   "pygments_lexer": "ipython3",
   "version": "3.7.6"
  }
 },
 "nbformat": 4,
 "nbformat_minor": 4
}
