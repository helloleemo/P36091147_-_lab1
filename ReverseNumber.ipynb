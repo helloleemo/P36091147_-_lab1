{
 "cells": [
  {
   "cell_type": "code",
   "execution_count": null,
   "metadata": {},
   "outputs": [],
   "source": []
  },
  {
   "cell_type": "code",
   "execution_count": null,
   "metadata": {},
   "outputs": [],
   "source": []
  },
  {
   "cell_type": "code",
   "execution_count": 99,
   "metadata": {},
   "outputs": [],
   "source": [
    "def reverse(num): \n",
    "    new=0 #設定從零開始\n",
    "    while num>0:\n",
    "        new=(num%10)+new*10 #最右邊的數字往左位移\n",
    "        num=num//10 #數字往右移動\n",
    "    if num %10 != 0: #數字不等於零直接顯示\n",
    "        print(new)\n",
    "    else:\n",
    "        num %10 == 0 #數字等於0要前面+0\n",
    "        print(f\"0{new}\")"
   ]
  },
  {
   "cell_type": "code",
   "execution_count": 100,
   "metadata": {},
   "outputs": [
    {
     "name": "stdout",
     "output_type": "stream",
     "text": [
      "Enter an integer:1234\n",
      "04321\n"
     ]
    }
   ],
   "source": [
    "num = int(input(\"Enter an integer:\")) #輸入整數\n",
    "reverse(num)"
   ]
  },
  {
   "cell_type": "code",
   "execution_count": 3,
   "metadata": {},
   "outputs": [],
   "source": []
  }
 ],
 "metadata": {
  "kernelspec": {
   "display_name": "Python 3",
   "language": "python",
   "name": "python3"
  },
  "language_info": {
   "codemirror_mode": {
    "name": "ipython",
    "version": 3
   },
   "file_extension": ".py",
   "mimetype": "text/x-python",
   "name": "python",
   "nbconvert_exporter": "python",
   "pygments_lexer": "ipython3",
   "version": "3.7.6"
  }
 },
 "nbformat": 4,
 "nbformat_minor": 4
}
